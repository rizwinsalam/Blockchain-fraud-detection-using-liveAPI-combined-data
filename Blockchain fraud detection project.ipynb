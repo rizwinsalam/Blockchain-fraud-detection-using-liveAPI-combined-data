import matplotlib.pyplot as plt
import seaborn as sns
from sklearn.metrics import confusion_matrix

# Simulated y_true and y_pred from the last isolation forest model
# (Assuming they were previously created in the same session)
# Example placeholders — replace these with actual values if available
import numpy as np
y_true = np.random.choice([0, 1], size=1000, p=[0.9, 0.1])
y_pred = np.random.choice([0, 1], size=1000, p=[0.85, 0.15])

# Create a confusion matrix
cm = confusion_matrix(y_true, y_pred)

# Plot confusion matrix
plt.figure(figsize=(6, 5))
sns.heatmap(cm, annot=True, fmt='d', cmap='Blues', cbar=False,
            xticklabels=['Predicted Normal', 'Predicted Fraud'],
            yticklabels=['Actual Normal', 'Actual Fraud'])
plt.title('Confusion Matrix — Isolation Forest Model')
plt.xlabel('Predicted Label')
plt.ylabel('Actual Label')
plt.show()

# Bar chart for model metrics
metrics = {'Accuracy': 0.835, 'Precision': 0.150, 'Recall': 0.158, 'F1-Score': 0.154}
plt.figure(figsize=(6, 4))
plt.bar(metrics.keys(), metrics.values(), color=['#4c72b0', '#55a868', '#c44e52', '#8172b2'])
plt.title('Model Performance Metrics')
plt.ylim(0, 1)
plt.ylabel('Score')
plt.grid(axis='y', linestyle='--', alpha=0.7)
plt.show()
